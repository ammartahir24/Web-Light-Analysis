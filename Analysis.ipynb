{
 "cells": [
  {
   "cell_type": "markdown",
   "metadata": {},
   "source": [
    "# Analysis of WebLight Transformation Dataset"
   ]
  },
  {
   "cell_type": "markdown",
   "metadata": {},
   "source": [
    "Importing necessary modules."
   ]
  },
  {
   "cell_type": "code",
   "execution_count": 1,
   "metadata": {},
   "outputs": [],
   "source": [
    "import pandas as pd\n",
    "import matplotlib.pyplot as plt\n",
    "from matplotlib.pyplot import figure\n",
    "import seaborn as sns"
   ]
  },
  {
   "cell_type": "markdown",
   "metadata": {},
   "source": [
    "'dataset.csv' is obtained by running parse.py on the downloaded webpages, Dataset mostly consists of count of different kind of tags that constitute html file. Dataset in total consists of 1171 rows, first few are shown below"
   ]
  },
  {
   "cell_type": "code",
   "execution_count": 2,
   "metadata": {},
   "outputs": [
    {
     "data": {
      "text/html": [
       "<div>\n",
       "<style scoped>\n",
       "    .dataframe tbody tr th:only-of-type {\n",
       "        vertical-align: middle;\n",
       "    }\n",
       "\n",
       "    .dataframe tbody tr th {\n",
       "        vertical-align: top;\n",
       "    }\n",
       "\n",
       "    .dataframe thead th {\n",
       "        text-align: right;\n",
       "    }\n",
       "</style>\n",
       "<table border=\"1\" class=\"dataframe\">\n",
       "  <thead>\n",
       "    <tr style=\"text-align: right;\">\n",
       "      <th></th>\n",
       "      <th>Name</th>\n",
       "      <th>Main Mobile Script tags</th>\n",
       "      <th>Main Mobile Image tags</th>\n",
       "      <th>Main Mobile Div tags</th>\n",
       "      <th>Main Mobile Hyperlink tags</th>\n",
       "      <th>Mini Mobile Script tags</th>\n",
       "      <th>Mini Mobile Image tags</th>\n",
       "      <th>Mini Mobile Div tags</th>\n",
       "      <th>Mini Mobile Hyperlink tags</th>\n",
       "      <th>Main Web Script tags</th>\n",
       "      <th>Main Web Image tags</th>\n",
       "      <th>Main Web Div tags</th>\n",
       "      <th>Main Web Hyperlink tags</th>\n",
       "      <th>Mini Web Script tags</th>\n",
       "      <th>Mini Web Image tags</th>\n",
       "      <th>Mini Web Div tags</th>\n",
       "      <th>Mini Web Hyperlink tags</th>\n",
       "      <th>Transcoded</th>\n",
       "    </tr>\n",
       "  </thead>\n",
       "  <tbody>\n",
       "    <tr>\n",
       "      <th>0</th>\n",
       "      <td>google.com</td>\n",
       "      <td>2</td>\n",
       "      <td>1</td>\n",
       "      <td>27</td>\n",
       "      <td>13</td>\n",
       "      <td>8</td>\n",
       "      <td>0</td>\n",
       "      <td>13</td>\n",
       "      <td>4</td>\n",
       "      <td>7</td>\n",
       "      <td>1</td>\n",
       "      <td>77</td>\n",
       "      <td>20</td>\n",
       "      <td>8</td>\n",
       "      <td>0</td>\n",
       "      <td>13</td>\n",
       "      <td>4</td>\n",
       "      <td>0</td>\n",
       "    </tr>\n",
       "    <tr>\n",
       "      <th>1</th>\n",
       "      <td>youtube.com</td>\n",
       "      <td>9</td>\n",
       "      <td>3</td>\n",
       "      <td>7</td>\n",
       "      <td>0</td>\n",
       "      <td>8</td>\n",
       "      <td>0</td>\n",
       "      <td>13</td>\n",
       "      <td>4</td>\n",
       "      <td>27</td>\n",
       "      <td>24</td>\n",
       "      <td>261</td>\n",
       "      <td>12</td>\n",
       "      <td>8</td>\n",
       "      <td>0</td>\n",
       "      <td>13</td>\n",
       "      <td>4</td>\n",
       "      <td>0</td>\n",
       "    </tr>\n",
       "    <tr>\n",
       "      <th>2</th>\n",
       "      <td>facebook.com</td>\n",
       "      <td>19</td>\n",
       "      <td>1</td>\n",
       "      <td>84</td>\n",
       "      <td>14</td>\n",
       "      <td>8</td>\n",
       "      <td>0</td>\n",
       "      <td>13</td>\n",
       "      <td>4</td>\n",
       "      <td>15</td>\n",
       "      <td>4</td>\n",
       "      <td>93</td>\n",
       "      <td>52</td>\n",
       "      <td>8</td>\n",
       "      <td>0</td>\n",
       "      <td>13</td>\n",
       "      <td>4</td>\n",
       "      <td>0</td>\n",
       "    </tr>\n",
       "    <tr>\n",
       "      <th>3</th>\n",
       "      <td>baidu.com</td>\n",
       "      <td>0</td>\n",
       "      <td>0</td>\n",
       "      <td>0</td>\n",
       "      <td>0</td>\n",
       "      <td>19</td>\n",
       "      <td>7</td>\n",
       "      <td>44</td>\n",
       "      <td>15</td>\n",
       "      <td>0</td>\n",
       "      <td>0</td>\n",
       "      <td>0</td>\n",
       "      <td>0</td>\n",
       "      <td>19</td>\n",
       "      <td>7</td>\n",
       "      <td>44</td>\n",
       "      <td>15</td>\n",
       "      <td>1</td>\n",
       "    </tr>\n",
       "    <tr>\n",
       "      <th>4</th>\n",
       "      <td>wikipedia.org</td>\n",
       "      <td>4</td>\n",
       "      <td>1</td>\n",
       "      <td>86</td>\n",
       "      <td>320</td>\n",
       "      <td>17</td>\n",
       "      <td>2</td>\n",
       "      <td>72</td>\n",
       "      <td>34</td>\n",
       "      <td>4</td>\n",
       "      <td>1</td>\n",
       "      <td>86</td>\n",
       "      <td>320</td>\n",
       "      <td>16</td>\n",
       "      <td>2</td>\n",
       "      <td>72</td>\n",
       "      <td>33</td>\n",
       "      <td>1</td>\n",
       "    </tr>\n",
       "  </tbody>\n",
       "</table>\n",
       "</div>"
      ],
      "text/plain": [
       "            Name  Main Mobile Script tags  Main Mobile Image tags  \\\n",
       "0     google.com                        2                       1   \n",
       "1    youtube.com                        9                       3   \n",
       "2   facebook.com                       19                       1   \n",
       "3      baidu.com                        0                       0   \n",
       "4  wikipedia.org                        4                       1   \n",
       "\n",
       "   Main Mobile Div tags  Main Mobile Hyperlink tags  Mini Mobile Script tags  \\\n",
       "0                    27                          13                        8   \n",
       "1                     7                           0                        8   \n",
       "2                    84                          14                        8   \n",
       "3                     0                           0                       19   \n",
       "4                    86                         320                       17   \n",
       "\n",
       "   Mini Mobile Image tags  Mini Mobile Div tags  Mini Mobile Hyperlink tags  \\\n",
       "0                       0                    13                           4   \n",
       "1                       0                    13                           4   \n",
       "2                       0                    13                           4   \n",
       "3                       7                    44                          15   \n",
       "4                       2                    72                          34   \n",
       "\n",
       "   Main Web Script tags  Main Web Image tags  Main Web Div tags  \\\n",
       "0                     7                    1                 77   \n",
       "1                    27                   24                261   \n",
       "2                    15                    4                 93   \n",
       "3                     0                    0                  0   \n",
       "4                     4                    1                 86   \n",
       "\n",
       "   Main Web Hyperlink tags  Mini Web Script tags  Mini Web Image tags  \\\n",
       "0                       20                     8                    0   \n",
       "1                       12                     8                    0   \n",
       "2                       52                     8                    0   \n",
       "3                        0                    19                    7   \n",
       "4                      320                    16                    2   \n",
       "\n",
       "   Mini Web Div tags  Mini Web Hyperlink tags  Transcoded  \n",
       "0                 13                        4           0  \n",
       "1                 13                        4           0  \n",
       "2                 13                        4           0  \n",
       "3                 44                       15           1  \n",
       "4                 72                       33           1  "
      ]
     },
     "execution_count": 2,
     "metadata": {},
     "output_type": "execute_result"
    }
   ],
   "source": [
    "data = pd.read_csv('dataset.csv')\n",
    "data.head()"
   ]
  },
  {
   "cell_type": "markdown",
   "metadata": {},
   "source": [
    "As you can observe last column is of transcoded variable, some pages cannot be transcoded by weblight. However, we have collected these web pages, because they will be useful in our implementation of neural network in later phases of project.\n",
    "In the code below, transcoded pages have been separated from the dataset."
   ]
  },
  {
   "cell_type": "code",
   "execution_count": 3,
   "metadata": {},
   "outputs": [
    {
     "data": {
      "text/html": [
       "<div>\n",
       "<style scoped>\n",
       "    .dataframe tbody tr th:only-of-type {\n",
       "        vertical-align: middle;\n",
       "    }\n",
       "\n",
       "    .dataframe tbody tr th {\n",
       "        vertical-align: top;\n",
       "    }\n",
       "\n",
       "    .dataframe thead th {\n",
       "        text-align: right;\n",
       "    }\n",
       "</style>\n",
       "<table border=\"1\" class=\"dataframe\">\n",
       "  <thead>\n",
       "    <tr style=\"text-align: right;\">\n",
       "      <th></th>\n",
       "      <th>Name</th>\n",
       "      <th>Main Mobile Script tags</th>\n",
       "      <th>Main Mobile Image tags</th>\n",
       "      <th>Main Mobile Div tags</th>\n",
       "      <th>Main Mobile Hyperlink tags</th>\n",
       "      <th>Mini Mobile Script tags</th>\n",
       "      <th>Mini Mobile Image tags</th>\n",
       "      <th>Mini Mobile Div tags</th>\n",
       "      <th>Mini Mobile Hyperlink tags</th>\n",
       "      <th>Main Web Script tags</th>\n",
       "      <th>Main Web Image tags</th>\n",
       "      <th>Main Web Div tags</th>\n",
       "      <th>Main Web Hyperlink tags</th>\n",
       "      <th>Mini Web Script tags</th>\n",
       "      <th>Mini Web Image tags</th>\n",
       "      <th>Mini Web Div tags</th>\n",
       "      <th>Mini Web Hyperlink tags</th>\n",
       "      <th>Transcoded</th>\n",
       "    </tr>\n",
       "  </thead>\n",
       "  <tbody>\n",
       "    <tr>\n",
       "      <th>3</th>\n",
       "      <td>baidu.com</td>\n",
       "      <td>0</td>\n",
       "      <td>0</td>\n",
       "      <td>0</td>\n",
       "      <td>0</td>\n",
       "      <td>19</td>\n",
       "      <td>7</td>\n",
       "      <td>44</td>\n",
       "      <td>15</td>\n",
       "      <td>0</td>\n",
       "      <td>0</td>\n",
       "      <td>0</td>\n",
       "      <td>0</td>\n",
       "      <td>19</td>\n",
       "      <td>7</td>\n",
       "      <td>44</td>\n",
       "      <td>15</td>\n",
       "      <td>1</td>\n",
       "    </tr>\n",
       "    <tr>\n",
       "      <th>4</th>\n",
       "      <td>wikipedia.org</td>\n",
       "      <td>4</td>\n",
       "      <td>1</td>\n",
       "      <td>86</td>\n",
       "      <td>320</td>\n",
       "      <td>17</td>\n",
       "      <td>2</td>\n",
       "      <td>72</td>\n",
       "      <td>34</td>\n",
       "      <td>4</td>\n",
       "      <td>1</td>\n",
       "      <td>86</td>\n",
       "      <td>320</td>\n",
       "      <td>16</td>\n",
       "      <td>2</td>\n",
       "      <td>72</td>\n",
       "      <td>33</td>\n",
       "      <td>1</td>\n",
       "    </tr>\n",
       "    <tr>\n",
       "      <th>5</th>\n",
       "      <td>qq.com</td>\n",
       "      <td>16</td>\n",
       "      <td>128</td>\n",
       "      <td>528</td>\n",
       "      <td>846</td>\n",
       "      <td>25</td>\n",
       "      <td>8</td>\n",
       "      <td>109</td>\n",
       "      <td>40</td>\n",
       "      <td>16</td>\n",
       "      <td>128</td>\n",
       "      <td>528</td>\n",
       "      <td>846</td>\n",
       "      <td>25</td>\n",
       "      <td>8</td>\n",
       "      <td>109</td>\n",
       "      <td>40</td>\n",
       "      <td>1</td>\n",
       "    </tr>\n",
       "    <tr>\n",
       "      <th>7</th>\n",
       "      <td>taobao.com</td>\n",
       "      <td>7</td>\n",
       "      <td>0</td>\n",
       "      <td>2</td>\n",
       "      <td>0</td>\n",
       "      <td>20</td>\n",
       "      <td>16</td>\n",
       "      <td>121</td>\n",
       "      <td>15</td>\n",
       "      <td>15</td>\n",
       "      <td>36</td>\n",
       "      <td>110</td>\n",
       "      <td>24</td>\n",
       "      <td>20</td>\n",
       "      <td>16</td>\n",
       "      <td>121</td>\n",
       "      <td>15</td>\n",
       "      <td>1</td>\n",
       "    </tr>\n",
       "    <tr>\n",
       "      <th>8</th>\n",
       "      <td>yahoo.com</td>\n",
       "      <td>42</td>\n",
       "      <td>26</td>\n",
       "      <td>644</td>\n",
       "      <td>53</td>\n",
       "      <td>18</td>\n",
       "      <td>1</td>\n",
       "      <td>45</td>\n",
       "      <td>30</td>\n",
       "      <td>38</td>\n",
       "      <td>51</td>\n",
       "      <td>339</td>\n",
       "      <td>104</td>\n",
       "      <td>16</td>\n",
       "      <td>0</td>\n",
       "      <td>40</td>\n",
       "      <td>27</td>\n",
       "      <td>1</td>\n",
       "    </tr>\n",
       "  </tbody>\n",
       "</table>\n",
       "</div>"
      ],
      "text/plain": [
       "            Name  Main Mobile Script tags  Main Mobile Image tags  \\\n",
       "3      baidu.com                        0                       0   \n",
       "4  wikipedia.org                        4                       1   \n",
       "5         qq.com                       16                     128   \n",
       "7     taobao.com                        7                       0   \n",
       "8      yahoo.com                       42                      26   \n",
       "\n",
       "   Main Mobile Div tags  Main Mobile Hyperlink tags  Mini Mobile Script tags  \\\n",
       "3                     0                           0                       19   \n",
       "4                    86                         320                       17   \n",
       "5                   528                         846                       25   \n",
       "7                     2                           0                       20   \n",
       "8                   644                          53                       18   \n",
       "\n",
       "   Mini Mobile Image tags  Mini Mobile Div tags  Mini Mobile Hyperlink tags  \\\n",
       "3                       7                    44                          15   \n",
       "4                       2                    72                          34   \n",
       "5                       8                   109                          40   \n",
       "7                      16                   121                          15   \n",
       "8                       1                    45                          30   \n",
       "\n",
       "   Main Web Script tags  Main Web Image tags  Main Web Div tags  \\\n",
       "3                     0                    0                  0   \n",
       "4                     4                    1                 86   \n",
       "5                    16                  128                528   \n",
       "7                    15                   36                110   \n",
       "8                    38                   51                339   \n",
       "\n",
       "   Main Web Hyperlink tags  Mini Web Script tags  Mini Web Image tags  \\\n",
       "3                        0                    19                    7   \n",
       "4                      320                    16                    2   \n",
       "5                      846                    25                    8   \n",
       "7                       24                    20                   16   \n",
       "8                      104                    16                    0   \n",
       "\n",
       "   Mini Web Div tags  Mini Web Hyperlink tags  Transcoded  \n",
       "3                 44                       15           1  \n",
       "4                 72                       33           1  \n",
       "5                109                       40           1  \n",
       "7                121                       15           1  \n",
       "8                 40                       27           1  "
      ]
     },
     "execution_count": 3,
     "metadata": {},
     "output_type": "execute_result"
    }
   ],
   "source": [
    "transcoded = data[data['Transcoded']==1]\n",
    "not_transcoded = data[data['Transcoded']==0]\n",
    "pd.options.mode.chained_assignment = None  # default='warn'\n",
    "transcoded.head()"
   ]
  },
  {
   "cell_type": "markdown",
   "metadata": {},
   "source": [
    "To see, how many changes weblight is making to the page, we are going to check four variables; number of script tags, image tags, number of divs and hyperlinks."
   ]
  },
  {
   "cell_type": "code",
   "execution_count": 4,
   "metadata": {},
   "outputs": [],
   "source": [
    "transcoded['Script Tag Difference'] = transcoded['Main Mobile Script tags'].sub(transcoded['Mini Mobile Script tags'],fill_value=0)\n",
    "transcoded['Image Tag Difference'] = transcoded['Main Mobile Image tags'].sub(transcoded['Mini Mobile Image tags'],fill_value=0)\n",
    "transcoded['Div Tag Difference'] = transcoded['Main Mobile Div tags'].sub(transcoded['Mini Mobile Div tags'],fill_value=0)\n",
    "transcoded['Hyperlink Tag Difference'] = transcoded['Main Mobile Hyperlink tags'].sub(transcoded['Mini Mobile Hyperlink tags'],fill_value=0)"
   ]
  },
  {
   "cell_type": "code",
   "execution_count": 5,
   "metadata": {},
   "outputs": [],
   "source": [
    "transformations = pd.DataFrame(transcoded, columns=['Name','Script Tag Difference','Hyperlink Tag Difference','Image Tag Difference','Div Tag Difference'])"
   ]
  },
  {
   "cell_type": "markdown",
   "metadata": {},
   "source": [
    "Here we have printed means and standard deviations of differences in tags"
   ]
  },
  {
   "cell_type": "code",
   "execution_count": 6,
   "metadata": {},
   "outputs": [],
   "source": [
    "script_diff = transformations['Script Tag Difference'].mean()\n",
    "img_diff = transformations['Image Tag Difference'].mean()\n",
    "div_diff = transformations['Hyperlink Tag Difference'].mean()\n",
    "a_diff = transformations['Div Tag Difference'].mean()\n",
    "script_std = transformations['Script Tag Difference'].std()\n",
    "img_std = transformations['Image Tag Difference'].std()\n",
    "div_std = transformations['Hyperlink Tag Difference'].std()\n",
    "a_std = transformations['Div Tag Difference'].std()"
   ]
  },
  {
   "cell_type": "code",
   "execution_count": 7,
   "metadata": {},
   "outputs": [
    {
     "name": "stdout",
     "output_type": "stream",
     "text": [
      "Average difference between number of script tags in Mobile page and weblight transformed page:  -0.042042042042042045 with std dev of 19.590758788112936\n",
      "Average difference between number of Image tags in Mobile page and weblight transformed page:  25.922922922922922 with std dev of 55.018680240586406\n",
      "Average difference between number of Div tags in Mobile page and weblight transformed page:  101.55355355355356 with std dev of 245.00234526071665\n",
      "Average difference between number of Hyperlink tags in Mobile page and weblight transformed page:  132.33833833833833 with std dev of 259.4691081377459\n"
     ]
    }
   ],
   "source": [
    "print(\"Average difference between number of script tags in Mobile page and weblight transformed page: \",script_diff,\"with std dev of\",script_std)\n",
    "print(\"Average difference between number of Image tags in Mobile page and weblight transformed page: \",img_diff,\"with std dev of\",img_std)\n",
    "print(\"Average difference between number of Div tags in Mobile page and weblight transformed page: \",div_diff,\"with std dev of\",div_std)\n",
    "print(\"Average difference between number of Hyperlink tags in Mobile page and weblight transformed page: \",a_diff,\"with std dev of\",a_std)\n"
   ]
  },
  {
   "cell_type": "markdown",
   "metadata": {},
   "source": [
    "Following visualisation shows spread around mean for each variable. As expected most of the tags are skewed toward positive side with most of the outlier on positive side as well. Script tag lie almost around zero mark which can be explained because generally there are less script tags than other kinds of tags."
   ]
  },
  {
   "cell_type": "code",
   "execution_count": 8,
   "metadata": {},
   "outputs": [
    {
     "data": {
      "image/png": "[encoded data removed]",
      "text/plain": [
       "<Figure size 640x480 with 1 Axes>"
      ]
     },
     "metadata": {},
     "output_type": "display_data"
    }
   ],
   "source": [
    "figure(num=None, figsize=(8, 6), dpi=80, facecolor='w', edgecolor='k')\n",
    "ax = sns.boxplot(data=transformations, orient=\"h\", palette=\"Set2\")"
   ]
  },
  {
   "cell_type": "markdown",
   "metadata": {},
   "source": [
    "Down below, results have been visualised individually as well."
   ]
  },
  {
   "cell_type": "code",
   "execution_count": 9,
   "metadata": {},
   "outputs": [
    {
     "data": {
      "image/png": "[encoded data removed]",
      "text/plain": [
       "<Figure size 432x288 with 1 Axes>"
      ]
     },
     "metadata": {},
     "output_type": "display_data"
    }
   ],
   "source": [
    "sns.set(style=\"whitegrid\")\n",
    "ax = sns.boxplot(x=transformations['Script Tag Difference'])"
   ]
  },
  {
   "cell_type": "code",
   "execution_count": 10,
   "metadata": {},
   "outputs": [
    {
     "data": {
      "image/png": "[encoded data removed]",
      "text/plain": [
       "<Figure size 432x288 with 1 Axes>"
      ]
     },
     "metadata": {},
     "output_type": "display_data"
    }
   ],
   "source": [
    "ax = sns.boxplot(x=transformations['Image Tag Difference'])"
   ]
  },
  {
   "cell_type": "code",
   "execution_count": 11,
   "metadata": {},
   "outputs": [
    {
     "data": {
      "image/png": "[encoded data removed]",
      "text/plain": [
       "<Figure size 432x288 with 1 Axes>"
      ]
     },
     "metadata": {},
     "output_type": "display_data"
    }
   ],
   "source": [
    "ax = sns.boxplot(x=transformations['Hyperlink Tag Difference'])"
   ]
  },
  {
   "cell_type": "code",
   "execution_count": 12,
   "metadata": {},
   "outputs": [
    {
     "data": {
      "image/png": "[encoded data removed]",
      "text/plain": [
       "<Figure size 432x288 with 1 Axes>"
      ]
     },
     "metadata": {},
     "output_type": "display_data"
    }
   ],
   "source": [
    "ax = sns.boxplot(x=transformations['Div Tag Difference'])"
   ]
  }
 ],
 "metadata": {
  "kernelspec": {
   "display_name": "Python 3",
   "language": "python",
   "name": "python3"
  },
  "language_info": {
   "codemirror_mode": {
    "name": "ipython",
    "version": 3
   },
   "file_extension": ".py",
   "mimetype": "text/x-python",
   "name": "python",
   "nbconvert_exporter": "python",
   "pygments_lexer": "ipython3",
   "version": "3.6.5"
  }
 },
 "nbformat": 4,
 "nbformat_minor": 2
}
